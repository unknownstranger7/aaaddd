{
 "cells": [
  {
   "cell_type": "code",
   "execution_count": null,
   "metadata": {},
   "outputs": [],
   "source": [
    "import numpy as np"
   ]
  },
  {
   "cell_type": "code",
   "execution_count": null,
   "metadata": {},
   "outputs": [],
   "source": [
    "# OR gate data\n",
    "\n",
    "input_data = np.array([[0, 0], [0, 1], [1, 0], [1, 1]])\n",
    "output_data = np.array([0, 1, 1, 1])\n",
    "\n",
    "# Initial weights and bias\n",
    "weights = np.array([0.0, 0.0])\n",
    "bias = 0.0"
   ]
  },
  {
   "cell_type": "code",
   "execution_count": null,
   "metadata": {},
   "outputs": [],
   "source": [
    "class SingleLayerPerceptron:\n",
    "    def __init__(self, input_data, output_data, weights, bias, learning_rate = 0.1):\n",
    "        self.input_data = input_data\n",
    "        self.output_data = output_data\n",
    "        self.weights = weights\n",
    "        self.learning_rate = learning_rate\n",
    "        self.bias = bias\n",
    "        self.epochs = 1000\n",
    "        \n",
    "    def predict(self, input_data):\n",
    "        # Calculate the dot product of input data and weights and add the bias\n",
    "        return np.dot(input_data, self.weights) + self.bias\n",
    "    \n",
    "    def stepup_function(self, x):\n",
    "        # Activation function\n",
    "        if x > 0:\n",
    "            return 1\n",
    "        else:\n",
    "            return 0\n",
    "        \n",
    "    def sigmoid(self, x):\n",
    "        # Sigmoid function\n",
    "        return 1 / (1 + np.exp(-x))\n",
    "    \n",
    "    def relu(self, x):\n",
    "        # ReLU function\n",
    "        return max(0, x)\n",
    "\n",
    "    def fit(self, X, Y):\n",
    "        # Initialize the weights and bias\n",
    "        self.weights = np.zeros(X.shape[1])\n",
    "        self.bias = 0\n",
    "\n",
    "        # Train the model\n",
    "        for epoch in range(self.epochs):\n",
    "            for i in range(X.shape[0]):\n",
    "                y_pred = self.predict(X[i])\n",
    "\n",
    "                # Apply the activation function\n",
    "                # here we using sigmoid function as activation function\n",
    "                y_pred = self.sigmoid(y_pred)\n",
    "\n",
    "                # Update the weights and bias if the prediction is wrong using the Hebbian learning rule\n",
    "                self.weights += self.learning_rate * (Y[i] - y_pred) * X[i]\n",
    "                self.bias += self.learning_rate * (Y[i] - y_pred)\n",
    "               \n",
    "        return self.weights, self.bias\n",
    "    \n",
    "\n",
    "    def evaluate(self, X, Y):\n",
    "        # Evaluate the model\n",
    "        correct = 0\n",
    "        for i in range(X.shape[0]):\n",
    "            y_pred = self.predict(X[i])\n",
    "\n",
    "            if y_pred > 0.5:\n",
    "                y_pred = 1\n",
    "            else:\n",
    "                y_pred = 0\n",
    "\n",
    "            if y_pred == Y[i]:\n",
    "                correct += 1\n",
    "\n",
    "        return correct / X.shape[0]"
   ]
  },
  {
   "cell_type": "code",
   "execution_count": null,
   "metadata": {},
   "outputs": [],
   "source": [
    "perceptron = SingleLayerPerceptron(input_data, output_data, weights, bias, learning_rate = 0.1)\n",
    "weights, bias = perceptron.fit(input_data, output_data)\n",
    "\n",
    "print(\"Weights: \", weights)\n",
    "print(\"Bias: \", bias)\n",
    "\n",
    "accuracy = perceptron.evaluate(input_data, output_data)\n",
    "print(\"Accuracy: \", accuracy)"
   ]
  },
  {
   "cell_type": "code",
   "execution_count": null,
   "metadata": {},
   "outputs": [],
   "source": []
  },
  {
   "cell_type": "code",
   "execution_count": null,
   "metadata": {},
   "outputs": [],
   "source": []
  },
  {
   "cell_type": "code",
   "execution_count": null,
   "metadata": {},
   "outputs": [],
   "source": []
  }
 ],
 "metadata": {
  "kernelspec": {
   "display_name": "Python 3",
   "language": "python",
   "name": "python3"
  },
  "language_info": {
   "codemirror_mode": {
    "name": "ipython",
    "version": 3
   },
   "file_extension": ".py",
   "mimetype": "text/x-python",
   "name": "python",
   "nbconvert_exporter": "python",
   "pygments_lexer": "ipython3",
   "version": "3.10.12"
  }
 },
 "nbformat": 4,
 "nbformat_minor": 2
}
